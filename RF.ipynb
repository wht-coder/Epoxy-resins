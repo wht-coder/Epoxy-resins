{
 "cells": [
  {
   "cell_type": "code",
   "execution_count": 1,
   "id": "eeac76d0",
   "metadata": {},
   "outputs": [],
   "source": [
    "import numpy as np\n",
    "import pandas as pd"
   ]
  },
  {
   "cell_type": "code",
   "execution_count": null,
   "id": "6b8ad5eb",
   "metadata": {},
   "outputs": [],
   "source": [
    "f = open('self-healing features.csv',encoding  = 'UTF-8')\n",
    "df = pd.read_csv(f,index_col = 0)\n",
    "df"
   ]
  },
  {
   "cell_type": "code",
   "execution_count": null,
   "id": "8b086ce5",
   "metadata": {},
   "outputs": [],
   "source": [
    "from sklearn.utils import shuffle\n",
    "X_r,y_r = shuffle(X,y)\n",
    "X_train,y_train = X_r[:-35, :],y_r[:-35]\n",
    "X_test,y_test = X_r[-35:, :],y_r[-35:]"
   ]
  },
  {
   "cell_type": "code",
   "execution_count": null,
   "id": "f100606d",
   "metadata": {},
   "outputs": [],
   "source": [
    "X_train.shape,X_test.shape,y_train.shape,y_test.shape"
   ]
  },
  {
   "cell_type": "code",
   "execution_count": null,
   "id": "cac64c13",
   "metadata": {},
   "outputs": [],
   "source": [
    "from sklearn import ensemble\n",
    "model = ensemble.RandomForestClassifier()\n",
    "rf = RandomForestClassifier()\n",
    "rf.fit(X,y)\n",
    "y_pred_rf = rf.predict(X)\n",
    "\n",
    "rf.fit(X_train,y_train)\n",
    "y_pred_train_rf = rf.predict(X_train)\n",
    "y_pred_test_rf = rf.predict(X_test)"
   ]
  },
  {
   "cell_type": "code",
   "execution_count": null,
   "id": "3872b106",
   "metadata": {},
   "outputs": [],
   "source": [
    "import matplotlib.pyplot as plt\n",
    "\n",
    "plt.figure(figsize = (5,5))\n",
    "plt.scatter(y_train,y_pred_train_gbr,alpha = 0.5, color ='blue', label = 'training')\n",
    "plt.scatter(y_test,y_pred_test_gbr,alpha = 0.5, color ='red', label = 'test')\n",
    "plt.legend()\n",
    "plt.xlabel('Experiment')\n",
    "plt.ylabel('Prediction')"
   ]
  },
  {
   "cell_type": "code",
   "execution_count": null,
   "id": "0ce3e470",
   "metadata": {},
   "outputs": [],
   "source": [
    "from sklearn.metrics import mean_squared_error\n",
    "r2_te_rf = rf_lo.score(X_test, y_test)\n",
    "print('R2 = %. 3f' % R2_rf)\n",
    "rmse_tr_rf = mean_squared_error (y_train,y_pred_train_rf,squared=False)\n",
    "rmse_te_rf = mean_squared_error (y_test,y_pred_test_rf,squared=False)\n",
    "print('RMSE(training) %.3f'% rmse_tr_rf)\n",
    "print('RMSE(test) %.3f'% rmse_te_rf)"
   ]
  },
  {
   "cell_type": "code",
   "execution_count": null,
   "id": "7987d999",
   "metadata": {},
   "outputs": [],
   "source": [
    "from sklearn.model_selection import cross_val_score,ShuffleSplit\n",
    "\n",
    "r2_scores = cross_val_score(rf, X, y,scoring = 'r2', cv = 5)\n",
    "rmse_scores = cross_val_score(rf, X, y, scoring = 'neg_root_mean_squared_error', cv = 5)\n",
    "\n",
    "\n",
    "print('Folds: %i, mean R2: %. 3f' % (len(r2_scores), np.mean(r2_scores)))\n",
    "print('Folds: %i, mean RMSE: %. 3f' % (len(rmse_scores), -np.mean(rmse_scores)))"
   ]
  }
 ],
 "metadata": {
  "kernelspec": {
   "display_name": "Python 3",
   "language": "python",
   "name": "python3"
  },
  "language_info": {
   "codemirror_mode": {
    "name": "ipython",
    "version": 3
   },
   "file_extension": ".py",
   "mimetype": "text/x-python",
   "name": "python",
   "nbconvert_exporter": "python",
   "pygments_lexer": "ipython3",
   "version": "3.8.8"
  }
 },
 "nbformat": 4,
 "nbformat_minor": 5
}
