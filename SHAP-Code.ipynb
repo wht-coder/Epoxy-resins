{
 "cells": [
  {
   "cell_type": "code",
   "execution_count": 1,
   "id": "b5840c26",
   "metadata": {},
   "outputs": [],
   "source": [
    "import numpy as np\n",
    "import pandas as pd"
   ]
  },
  {
   "cell_type": "code",
   "execution_count": null,
   "id": "563b1824",
   "metadata": {},
   "outputs": [],
   "source": [
    "f = open('self-healing parameters.csv',encoding  = 'UTF-8')\n",
    "df = pd.read_csv(f,index_col = 0)\n",
    "df"
   ]
  },
  {
   "cell_type": "code",
   "execution_count": null,
   "id": "6586d393",
   "metadata": {},
   "outputs": [],
   "source": [
    "from sklearn.utils import shuffle\n",
    "X_r,y_r = shuffle(X,y)\n",
    "X_train,y_train = X_r[:-35, :],y_r[:-35]\n",
    "X_test,y_test = X_r[-35:, :],y_r[-35:]"
   ]
  },
  {
   "cell_type": "code",
   "execution_count": null,
   "id": "ad150c06",
   "metadata": {},
   "outputs": [],
   "source": [
    "X_train.shape,X_test.shape,y_train.shape,y_test.shape"
   ]
  },
  {
   "cell_type": "code",
   "execution_count": null,
   "id": "148a6a4c",
   "metadata": {},
   "outputs": [],
   "source": [
    "from sklearn.ensemble import GradientBoostingRegressor\n",
    "gbr = GradientBoostingRegressor()\n",
    "gbr.fit(X,y)\n",
    "y_pred_gbr = gbr.predict(X)\n",
    "\n",
    "gbr.fit(X_train,y_train)\n",
    "y_pred_train_gbr = gbr.predict(X_train)\n",
    "y_pred_test_gbr = gbr.predict(X_test)"
   ]
  },
  {
   "cell_type": "code",
   "execution_count": null,
   "id": "03672edc",
   "metadata": {},
   "outputs": [],
   "source": [
    "import matplotlib.pyplot as plt\n",
    "\n",
    "plt.figure(figsize = (5,5))\n",
    "plt.scatter(y_train,y_pred_train_gbr,alpha = 0.5, color ='blue', label = 'training')\n",
    "plt.scatter(y_test,y_pred_test_gbr,alpha = 0.5, color ='red', label = 'test')\n",
    "plt.legend()\n",
    "plt.xlabel('Experiment')\n",
    "plt.ylabel('Prediction')"
   ]
  },
  {
   "cell_type": "code",
   "execution_count": null,
   "id": "a5480d24",
   "metadata": {},
   "outputs": [],
   "source": [
    "from sklearn.metrics import mean_squared_error\n",
    "rmse_tr_gbr = mean_squared_error (y_train,y_pred_train_gbr,squared=False)\n",
    "rmse_te_gbr = mean_squared_error (y_test,y_pred_test_gbr,squared=False)\n",
    "print('RMSE(training) %.3f'% rmse_tr_gbr)\n",
    "print('RMSE(test) %.3f'% rmse_te_gbr)"
   ]
  },
  {
   "cell_type": "code",
   "execution_count": null,
   "id": "f6331fa8",
   "metadata": {},
   "outputs": [],
   "source": [
    "from sklearn.model_selection import cross_val_score,ShuffleSplit\n",
    "cvf = ShuffleSplit(n_splits=100, test_size=0.3)\n",
    "r2_gbr = cross_val_score(gbr, X, y, cv=cvf)\n",
    "scores_gbr = cross_val_score(gbr, X, y, cv=cvf,scoring = 'neg_root_mean_squared_error')\n",
    "print('100 times mean r2: %.3f'% r2_gbr.mean())\n",
    "print('100 times mean RMSE: %.3f'% -scores_gbr.mean())"
   ]
  },
  {
   "cell_type": "code",
   "execution_count": null,
   "id": "82470daa",
   "metadata": {},
   "outputs": [],
   "source": [
    "rmse_tr_gbr = mean_squared_error (y_train,y_pred_train_gbr,squared=False)\n",
    "rmse_te_gbr = mean_squared_error (y_test,y_pred_test_gbr,squared=False)\n",
    "print('RMSE(training) %.3f'% rmse_tr_gbr)\n",
    "print('RMSE(test) %.3f'% rmse_te_gbr)"
   ]
  },
  {
   "cell_type": "code",
   "execution_count": null,
   "id": "c962386b",
   "metadata": {},
   "outputs": [],
   "source": [
    "r2_gbr = cross_val_score(gbr,X,y,cv=cvf,scoring = 'r2')\n",
    "scores_gbr = cross_val_score(gbr,X,y,cv=cvf,scoring = 'neg_root_mean_squared_error')\n",
    "print('100 times mean r2: %.3f'% r2_gbr.mean())\n",
    "print('100 times mean RMSE: %.3f'% -scores_gbr.mean())"
   ]
  },
  {
   "cell_type": "code",
   "execution_count": null,
   "id": "ef427718",
   "metadata": {},
   "outputs": [],
   "source": [
    "import shap"
   ]
  },
  {
   "cell_type": "code",
   "execution_count": null,
   "id": "95c3466b",
   "metadata": {},
   "outputs": [],
   "source": [
    "explainer = shap.Explainer(gbr)"
   ]
  },
  {
   "cell_type": "code",
   "execution_count": null,
   "id": "2250361f",
   "metadata": {},
   "outputs": [],
   "source": [
    "shap_values = explainer (X)"
   ]
  },
  {
   "cell_type": "code",
   "execution_count": null,
   "id": "25ea7ada",
   "metadata": {},
   "outputs": [],
   "source": [
    "shap.plots.waterfall(shap_values[0])"
   ]
  },
  {
   "cell_type": "code",
   "execution_count": null,
   "id": "6d3e1f4c",
   "metadata": {},
   "outputs": [],
   "source": [
    "shap.plots.waterfall(shap_values[1])"
   ]
  },
  {
   "cell_type": "code",
   "execution_count": null,
   "id": "72f119bc",
   "metadata": {},
   "outputs": [],
   "source": [
    "shap.plots.waterfall(shap_values[2])"
   ]
  },
  {
   "cell_type": "code",
   "execution_count": null,
   "id": "cc448b9d",
   "metadata": {},
   "outputs": [],
   "source": [
    "shap.summary_plot(shap_values,X)"
   ]
  },
  {
   "cell_type": "code",
   "execution_count": null,
   "id": "adb443d9",
   "metadata": {},
   "outputs": [],
   "source": [
    "shap.plots.bar(shap_values)"
   ]
  },
  {
   "cell_type": "code",
   "execution_count": null,
   "id": "3d4a968c",
   "metadata": {},
   "outputs": [],
   "source": [
    "shap_interaction_values = explainer.shap_interaction_values(X)\n",
    "\n",
    "\n",
    "shap.summary_plot(shap_interaction_values,X)"
   ]
  },
  {
   "cell_type": "code",
   "execution_count": null,
   "id": "1d49154b",
   "metadata": {},
   "outputs": [],
   "source": []
  }
 ],
 "metadata": {
  "kernelspec": {
   "display_name": "Python 3",
   "language": "python",
   "name": "python3"
  },
  "language_info": {
   "codemirror_mode": {
    "name": "ipython",
    "version": 3
   },
   "file_extension": ".py",
   "mimetype": "text/x-python",
   "name": "python",
   "nbconvert_exporter": "python",
   "pygments_lexer": "ipython3",
   "version": "3.8.8"
  }
 },
 "nbformat": 4,
 "nbformat_minor": 5
}
