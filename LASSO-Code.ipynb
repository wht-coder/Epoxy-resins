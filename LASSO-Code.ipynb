{
 "cells": [
  {
   "cell_type": "code",
   "execution_count": 1,
   "id": "eeac76d0",
   "metadata": {},
   "outputs": [],
   "source": [
    "import numpy as np\n",
    "import pandas as pd"
   ]
  },
  {
   "cell_type": "code",
   "execution_count": null,
   "id": "6b8ad5eb",
   "metadata": {},
   "outputs": [],
   "source": [
    "f = open('self-healing parameters.csv',encoding  = 'UTF-8')\n",
    "df = pd.read_csv(f,index_col = 0)\n",
    "df"
   ]
  },
  {
   "cell_type": "code",
   "execution_count": null,
   "id": "8b086ce5",
   "metadata": {},
   "outputs": [],
   "source": [
    "from sklearn.utils import shuffle\n",
    "X_r,y_r = shuffle(X,y)\n",
    "X_train,y_train = X_r[:-35, :],y_r[:-35]\n",
    "X_test,y_test = X_r[-35:, :],y_r[-35:]"
   ]
  },
  {
   "cell_type": "code",
   "execution_count": null,
   "id": "f100606d",
   "metadata": {},
   "outputs": [],
   "source": [
    "X_train.shape,X_test.shape,y_train.shape,y_test.shape"
   ]
  },
  {
   "cell_type": "code",
   "execution_count": null,
   "id": "cac64c13",
   "metadata": {},
   "outputs": [],
   "source": [
    "from sklearn.linear_model import LassoCV\n",
    "la = LassoCV()\n",
    "la.fit(X,y)\n",
    "y_pred_la = la.predict(X)\n",
    "la.fit(X_train,y_train)\n",
    "y_pred_train_la = la.predict(X_train)\n",
    "y_pred_test_la = la.predict(X_test)"
   ]
  },
  {
   "cell_type": "code",
   "execution_count": null,
   "id": "3872b106",
   "metadata": {},
   "outputs": [],
   "source": [
    "import matplotlib.pyplot as plt\n",
    "\n",
    "plt.figure(figsize = (5,5))\n",
    "plt.scatter(y_train,y_pred_train_la,alpha = 0.5, color ='blue', label = 'training')\n",
    "plt.scatter(y_test,y_pred_test_la,alpha = 0.5, color ='red', label = 'test')\n",
    "plt.legend()\n",
    "plt.xlabel('Experiment')\n",
    "plt.ylabel('Prediction')"
   ]
  },
  {
   "cell_type": "code",
   "execution_count": null,
   "id": "0ce3e470",
   "metadata": {},
   "outputs": [],
   "source": [
    "from sklearn.metrics import mean_squared_error\n",
    "rmse_tr_la = mean_squared_error (y_train,y_pred_train_la,squared=False)\n",
    "rmse_te_la = mean_squared_error (y_test,y_pred_test_la,squared=False)\n",
    "print('RMSE(training) %.3f'% rmse_tr_la)\n",
    "print('RMSE(test) %.3f'% rmse_te_la)"
   ]
  },
  {
   "cell_type": "code",
   "execution_count": null,
   "id": "84370b24",
   "metadata": {},
   "outputs": [],
   "source": [
    "from sklearn.model_selection import cross_val_score,ShuffleSplit\n",
    "cvf = ShuffleSplit(n_splits=100, test_size=0.3)\n",
    "r2_la = cross_val_score(la, X, y, cv=cvf)\n",
    "scores_la = cross_val_score(la, X, y, cv=cvf,scoring = 'neg_root_mean_squared_error')\n",
    "print('100 times mean r2: %.3f'% r2_la.mean())\n",
    "print('100 times mean RMSE: %.3f'% -scores_la.mean())"
   ]
  },
  {
   "cell_type": "code",
   "execution_count": null,
   "id": "5ceeab4f",
   "metadata": {},
   "outputs": [],
   "source": [
    "rmse_tr_la = mean_squared_error (y_train,y_pred_train_la,squared=False)\n",
    "rmse_te_la = mean_squared_error (y_test,y_pred_test_la,squared=False)\n",
    "print('RMSE(training) %.3f'% rmse_tr_la)\n",
    "print('RMSE(test) %.3f'% rmse_te_la)"
   ]
  },
  {
   "cell_type": "code",
   "execution_count": null,
   "id": "bcdf0320",
   "metadata": {},
   "outputs": [],
   "source": [
    "r2_la = cross_val_score(la,X,y,cv=cvf,scoring = 'r2')\n",
    "scores_la = cross_val_score(la,X,y,cv=cvf,scoring = 'neg_root_mean_squared_error')\n",
    "print('100 times mean r2: %.3f'% r2_la.mean())\n",
    "print('100 times mean RMSE: %.3f'% -scores_la.mean())"
   ]
  },
  {
   "cell_type": "code",
   "execution_count": null,
   "id": "954636c1",
   "metadata": {},
   "outputs": [],
   "source": []
  },
  {
   "cell_type": "code",
   "execution_count": null,
   "id": "7a2c010f",
   "metadata": {},
   "outputs": [],
   "source": []
  },
  {
   "cell_type": "code",
   "execution_count": null,
   "id": "821eb48a",
   "metadata": {},
   "outputs": [],
   "source": []
  },
  {
   "cell_type": "code",
   "execution_count": null,
   "id": "3dd8c2e8",
   "metadata": {},
   "outputs": [],
   "source": []
  },
  {
   "cell_type": "code",
   "execution_count": null,
   "id": "eb38e93f",
   "metadata": {},
   "outputs": [],
   "source": []
  },
  {
   "cell_type": "code",
   "execution_count": null,
   "id": "d5527379",
   "metadata": {},
   "outputs": [],
   "source": []
  },
  {
   "cell_type": "code",
   "execution_count": null,
   "id": "19f94c0b",
   "metadata": {},
   "outputs": [],
   "source": []
  },
  {
   "cell_type": "code",
   "execution_count": null,
   "id": "22a7a1ba",
   "metadata": {},
   "outputs": [],
   "source": []
  },
  {
   "cell_type": "code",
   "execution_count": null,
   "id": "ce31a8fe",
   "metadata": {},
   "outputs": [],
   "source": [
    "\n",
    "\n"
   ]
  },
  {
   "cell_type": "code",
   "execution_count": null,
   "id": "4c67e6a2",
   "metadata": {},
   "outputs": [],
   "source": []
  }
 ],
 "metadata": {
  "kernelspec": {
   "display_name": "Python 3",
   "language": "python",
   "name": "python3"
  },
  "language_info": {
   "codemirror_mode": {
    "name": "ipython",
    "version": 3
   },
   "file_extension": ".py",
   "mimetype": "text/x-python",
   "name": "python",
   "nbconvert_exporter": "python",
   "pygments_lexer": "ipython3",
   "version": "3.8.8"
  }
 },
 "nbformat": 4,
 "nbformat_minor": 5
}
