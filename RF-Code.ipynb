{
 "cells": [
  {
   "cell_type": "code",
   "execution_count": 1,
   "id": "e49b147f",
   "metadata": {},
   "outputs": [],
   "source": [
    "import numpy as np\n",
    "import pandas as pd"
   ]
  },
  {
   "cell_type": "code",
   "execution_count": null,
   "id": "636ab213",
   "metadata": {},
   "outputs": [],
   "source": [
    "f = open('self-healing parameters.csv',encoding  = 'UTF-8')\n",
    "df = pd.read_csv(f,index_col = 0)\n",
    "df"
   ]
  },
  {
   "cell_type": "code",
   "execution_count": null,
   "id": "022cc723",
   "metadata": {},
   "outputs": [],
   "source": [
    "from sklearn.utils import shuffle\n",
    "X_r,y_r = shuffle(X,y)\n",
    "X_train,y_train = X_r[:-20, :],y_r[:-20]\n",
    "X_test,y_test = X_r[-20:, :],y_r[-20:]"
   ]
  },
  {
   "cell_type": "code",
   "execution_count": null,
   "id": "eeb23a11",
   "metadata": {},
   "outputs": [],
   "source": [
    "X_train.shape,X_test.shape,y_train.shape,y_test.shape"
   ]
  },
  {
   "cell_type": "code",
   "execution_count": null,
   "id": "65efddf6",
   "metadata": {},
   "outputs": [],
   "source": [
    "from sklearn import ensemble\n",
    "model = ensemble.RandomForestClassifier()\n",
    "rf = RandomForestClassifier()\n",
    "rf.fit(X,y)\n",
    "y_pred_rf = rf.predict(X)\n",
    "\n",
    "rf.fit(X_train,y_train)\n",
    "y_pred_train_rf = rf.predict(X_train)\n",
    "y_pred_test_rf = rf.predict(X_test)"
   ]
  },
  {
   "cell_type": "code",
   "execution_count": null,
   "id": "d942177b",
   "metadata": {},
   "outputs": [],
   "source": [
    "import matplotlib.pyplot as plt\n",
    "\n",
    "plt.figure(figsize = (5,5))\n",
    "plt.scatter(y_train,y_pred_train_rf,alpha = 0.5, color ='blue', label = 'training')\n",
    "plt.scatter(y_test,y_pred_test_rf,alpha = 0.5, color ='red', label = 'test')\n",
    "plt.legend()\n",
    "plt.xlabel('Experiment')\n",
    "plt.ylabel('Prediction')"
   ]
  },
  {
   "cell_type": "code",
   "execution_count": null,
   "id": "79558054",
   "metadata": {},
   "outputs": [],
   "source": [
    "from sklearn.metrics import mean_squared_error\n",
    "rmse_tr_rf = mean_squared_error (y_train,y_pred_train_rf,squared=False)\n",
    "rmse_te_rf = mean_squared_error (y_test,y_pred_test_rf,squared=False)\n",
    "print('RMSE(training) %.3f'% rmse_tr_rf)\n",
    "print('RMSE(test) %.3f'% rmse_te_rf)"
   ]
  },
  {
   "cell_type": "code",
   "execution_count": null,
   "id": "2ddb4a11",
   "metadata": {},
   "outputs": [],
   "source": [
    "from sklearn.model_selection import cross_val_score,ShuffleSplit\n",
    "cvf = ShuffleSplit(n_splits=100, test_size=0.3)\n",
    "r2_rf = cross_val_score(rf, X, y, cv=cvf)\n",
    "scores_rf = cross_val_score(rf, X, y, cv=cvf,scoring = 'neg_root_mean_squared_error')\n",
    "print('100 times mean r2: %.3f'% r2_rf.mean())\n",
    "print('100 times mean RMSE: %.3f'% -scores_rf.mean())"
   ]
  },
  {
   "cell_type": "code",
   "execution_count": null,
   "id": "5f58c8e4",
   "metadata": {},
   "outputs": [],
   "source": [
    "rmse_tr_rf = mean_squared_error (y_train,y_pred_train_rf,squared=False)\n",
    "rmse_te_rf = mean_squared_error (y_test,y_pred_test_rf,squared=False)\n",
    "print('RMSE(training) %.3f'% rmse_tr_rf)\n",
    "print('RMSE(test) %.3f'% rmse_te_rf)"
   ]
  },
  {
   "cell_type": "code",
   "execution_count": null,
   "id": "f1b7b167",
   "metadata": {},
   "outputs": [],
   "source": [
    "r2_rf = cross_val_score(rf,X,y,cv=cvf,scoring = 'r2')\n",
    "scores_rf = cross_val_score(rf,X,y,cv=cvf,scoring = 'neg_root_mean_squared_error')\n",
    "print('100 times mean r2: %.3f'% r2_rf.mean())\n",
    "print('100 times mean RMSE: %.3f'% -scores_rf.mean())"
   ]
  },
  {
   "cell_type": "code",
   "execution_count": null,
   "id": "a8400bd9",
   "metadata": {},
   "outputs": [],
   "source": []
  },
  {
   "cell_type": "code",
   "execution_count": null,
   "id": "245ae724",
   "metadata": {},
   "outputs": [],
   "source": []
  },
  {
   "cell_type": "code",
   "execution_count": null,
   "id": "a441f210",
   "metadata": {},
   "outputs": [],
   "source": []
  },
  {
   "cell_type": "code",
   "execution_count": null,
   "id": "36b171b4",
   "metadata": {},
   "outputs": [],
   "source": []
  },
  {
   "cell_type": "code",
   "execution_count": null,
   "id": "e97ceb3a",
   "metadata": {},
   "outputs": [],
   "source": []
  },
  {
   "cell_type": "code",
   "execution_count": null,
   "id": "35287a4b",
   "metadata": {},
   "outputs": [],
   "source": []
  },
  {
   "cell_type": "code",
   "execution_count": null,
   "id": "0dea570c",
   "metadata": {},
   "outputs": [],
   "source": []
  },
  {
   "cell_type": "code",
   "execution_count": null,
   "id": "1edc91ed",
   "metadata": {},
   "outputs": [],
   "source": []
  },
  {
   "cell_type": "code",
   "execution_count": null,
   "id": "8c96233e",
   "metadata": {},
   "outputs": [],
   "source": [
    "\n",
    "\n"
   ]
  },
  {
   "cell_type": "code",
   "execution_count": null,
   "id": "f5a3d3a4",
   "metadata": {},
   "outputs": [],
   "source": []
  }
 ],
 "metadata": {
  "kernelspec": {
   "display_name": "Python 3",
   "language": "python",
   "name": "python3"
  },
  "language_info": {
   "codemirror_mode": {
    "name": "ipython",
    "version": 3
   },
   "file_extension": ".py",
   "mimetype": "text/x-python",
   "name": "python",
   "nbconvert_exporter": "python",
   "pygments_lexer": "ipython3",
   "version": "3.8.8"
  }
 },
 "nbformat": 4,
 "nbformat_minor": 5
}
