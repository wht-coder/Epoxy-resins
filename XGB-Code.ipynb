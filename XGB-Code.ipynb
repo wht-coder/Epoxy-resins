{
 "cells": [
  {
   "cell_type": "code",
   "execution_count": 1,
   "id": "34d0fc3a",
   "metadata": {},
   "outputs": [],
   "source": [
    "import numpy as np\n",
    "import pandas as pd"
   ]
  },
  {
   "cell_type": "code",
   "execution_count": null,
   "id": "6372154e",
   "metadata": {},
   "outputs": [],
   "source": [
    "f = open('self-healing parameters.csv',encoding  = 'UTF-8')\n",
    "df = pd.read_csv(f,index_col = 0)\n",
    "df"
   ]
  },
  {
   "cell_type": "code",
   "execution_count": null,
   "id": "866825d3",
   "metadata": {},
   "outputs": [],
   "source": [
    "from sklearn.utils import shuffle\n",
    "X_r,y_r = shuffle(X,y)\n",
    "X_train,y_train = X_r[:-20, :],y_r[:-20]\n",
    "X_test,y_test = X_r[-20:, :],y_r[-20:]"
   ]
  },
  {
   "cell_type": "code",
   "execution_count": null,
   "id": "20e991be",
   "metadata": {},
   "outputs": [],
   "source": [
    "X_train.shape,X_test.shape,y_train.shape,y_test.shape"
   ]
  },
  {
   "cell_type": "code",
   "execution_count": null,
   "id": "84a937cc",
   "metadata": {},
   "outputs": [],
   "source": [
    "from sklearn.ensemble import GradientBoostingRegressor\n",
    "gbr = GradientBoostingRegressor()\n",
    "gbr.fit(X,y)\n",
    "y_pred_gbr = gbr.predict(X)\n",
    "\n",
    "gbr.fit(X_train,y_train)\n",
    "y_pred_train_gbr = gbr.predict(X_train)\n",
    "y_pred_test_gbr = gbr.predict(X_test)"
   ]
  },
  {
   "cell_type": "code",
   "execution_count": null,
   "id": "d105f7ea",
   "metadata": {},
   "outputs": [],
   "source": [
    "import matplotlib.pyplot as plt\n",
    "\n",
    "plt.figure(figsize = (5,5))\n",
    "plt.scatter(y_train,y_pred_train_gbr,alpha = 0.5, color ='blue', label = 'training')\n",
    "plt.scatter(y_test,y_pred_test_gbr,alpha = 0.5, color ='red', label = 'test')\n",
    "plt.legend()\n",
    "plt.xlabel('Experiment')\n",
    "plt.ylabel('Prediction')"
   ]
  },
  {
   "cell_type": "code",
   "execution_count": null,
   "id": "ecb01709",
   "metadata": {},
   "outputs": [],
   "source": [
    "from sklearn.metrics import mean_squared_error\n",
    "rmse_tr_gbr = mean_squared_error (y_train,y_pred_train_gbr,squared=False)\n",
    "rmse_te_gbr = mean_squared_error (y_test,y_pred_test_gbr,squared=False)\n",
    "print('RMSE(training) %.3f'% rmse_tr_gbr)\n",
    "print('RMSE(test) %.3f'% rmse_te_gbr)"
   ]
  },
  {
   "cell_type": "code",
   "execution_count": null,
   "id": "e9c8ac25",
   "metadata": {},
   "outputs": [],
   "source": [
    "from sklearn.model_selection import cross_val_score,ShuffleSplit\n",
    "cvf = ShuffleSplit(n_splits=100, test_size=0.25)\n",
    "r2_gbr = cross_val_score(gbr, X, y, cv=cvf)\n",
    "scores_gbr = cross_val_score(gbr, X, y, cv=cvf,scoring = 'neg_root_mean_squared_error')\n",
    "print('100 times mean r2: %.3f'% r2_gbr.mean())\n",
    "print('100 times mean RMSE: %.3f'% -scores_gbr.mean())"
   ]
  },
  {
   "cell_type": "code",
   "execution_count": null,
   "id": "c958840f",
   "metadata": {},
   "outputs": [],
   "source": [
    "rmse_tr_gbr = mean_squared_error (y_train,y_pred_train_gbr,squared=False)\n",
    "rmse_te_gbr = mean_squared_error (y_test,y_pred_test_gbr,squared=False)\n",
    "print('RMSE(training) %.3f'% rmse_tr_gbr)\n",
    "print('RMSE(test) %.3f'% rmse_te_gbr)"
   ]
  },
  {
   "cell_type": "code",
   "execution_count": null,
   "id": "1af2cb43",
   "metadata": {},
   "outputs": [],
   "source": [
    "r2_gbr = cross_val_score(gbr,X,y,cv=cvf,scoring = 'r2')\n",
    "scores_gbr = cross_val_score(gbr,X,y,cv=cvf,scoring = 'neg_root_mean_squared_error')\n",
    "print('100 times mean r2: %.3f'% r2_gbr.mean())\n",
    "print('100 times mean RMSE: %.3f'% -scores_gbr.mean())"
   ]
  },
  {
   "cell_type": "code",
   "execution_count": null,
   "id": "a3b916cc",
   "metadata": {},
   "outputs": [],
   "source": []
  }
 ],
 "metadata": {
  "kernelspec": {
   "display_name": "Python 3",
   "language": "python",
   "name": "python3"
  },
  "language_info": {
   "codemirror_mode": {
    "name": "ipython",
    "version": 3
   },
   "file_extension": ".py",
   "mimetype": "text/x-python",
   "name": "python",
   "nbconvert_exporter": "python",
   "pygments_lexer": "ipython3",
   "version": "3.8.8"
  }
 },
 "nbformat": 4,
 "nbformat_minor": 5
}
