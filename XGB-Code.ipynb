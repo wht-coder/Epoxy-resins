{
 "cells": [
  {
   "cell_type": "code",
   "execution_count": 1,
   "id": "d076e4c2",
   "metadata": {},
   "outputs": [],
   "source": [
    "import numpy as np\n",
    "import pandas as pd"
   ]
  },
  {
   "cell_type": "code",
   "execution_count": null,
   "id": "45de8983",
   "metadata": {},
   "outputs": [],
   "source": [
    "f = open('self-healing parameters.csv',encoding  = 'UTF-8')\n",
    "df = pd.read_csv(f,index_col = 0)\n",
    "df"
   ]
  },
  {
   "cell_type": "code",
   "execution_count": null,
   "id": "182a124e",
   "metadata": {},
   "outputs": [],
   "source": [
    "from sklearn.utils import shuffle\n",
    "X_r,y_r = shuffle(X,y)\n",
    "X_train,y_train = X_r[:-20, :],y_r[:-20]\n",
    "X_test,y_test = X_r[-20:, :],y_r[-20:]"
   ]
  },
  {
   "cell_type": "code",
   "execution_count": null,
   "id": "cb0a50ff",
   "metadata": {},
   "outputs": [],
   "source": [
    "X_train.shape,X_test.shape,y_train.shape,y_test.shape"
   ]
  },
  {
   "cell_type": "code",
   "execution_count": null,
   "id": "3bdb84b3",
   "metadata": {},
   "outputs": [],
   "source": [
    "from sklearn.ensemble import GradientBoostingRegressor\n",
    "gbr = GradientBoostingRegressor()\n",
    "gbr.fit(X,y)\n",
    "y_pred_gbr = gbr.predict(X)\n",
    "\n",
    "gbr.fit(X_train,y_train)\n",
    "y_pred_train_gbr = gbr.predict(X_train)\n",
    "y_pred_test_gbr = gbr.predict(X_test)"
   ]
  },
  {
   "cell_type": "code",
   "execution_count": null,
   "id": "2c4246a3",
   "metadata": {},
   "outputs": [],
   "source": [
    "import matplotlib.pyplot as plt\n",
    "\n",
    "plt.figure(figsize = (5,5))\n",
    "plt.scatter(y_train,y_pred_train_gbr,alpha = 0.5, color ='blue', label = 'training')\n",
    "plt.scatter(y_test,y_pred_test_gbr,alpha = 0.5, color ='red', label = 'test')\n",
    "plt.legend()\n",
    "plt.xlabel('Experiment')\n",
    "plt.ylabel('Prediction')"
   ]
  },
  {
   "cell_type": "code",
   "execution_count": null,
   "id": "1fb68593",
   "metadata": {},
   "outputs": [],
   "source": [
    "from sklearn.metrics import mean_squared_error\n",
    "rmse_tr_gbr = mean_squared_error (y_train,y_pred_train_gbr,squared=False)\n",
    "rmse_te_gbr = mean_squared_error (y_test,y_pred_test_gbr,squared=False)\n",
    "print('RMSE(training) %.3f'% rmse_tr_gbr)\n",
    "print('RMSE(test) %.3f'% rmse_te_gbr)"
   ]
  },
  {
   "cell_type": "code",
   "execution_count": null,
   "id": "2c9f7685",
   "metadata": {},
   "outputs": [],
   "source": [
    "from sklearn.model_selection import cross_val_score,ShuffleSplit\n",
    "cvf = ShuffleSplit(n_splits=100, test_size=0.3)\n",
    "r2_gbr = cross_val_score(gbr, X, y, cv=cvf)\n",
    "scores_gbr = cross_val_score(gbr, X, y, cv=cvf,scoring = 'neg_root_mean_squared_error')\n",
    "print('100 times mean r2: %.3f'% r2_gbr.mean())\n",
    "print('100 times mean RMSE: %.3f'% -scores_gbr.mean())"
   ]
  },
  {
   "cell_type": "code",
   "execution_count": null,
   "id": "cb04300f",
   "metadata": {},
   "outputs": [],
   "source": [
    "rmse_tr_gbr = mean_squared_error (y_train,y_pred_train_gbr,squared=False)\n",
    "rmse_te_gbr = mean_squared_error (y_test,y_pred_test_gbr,squared=False)\n",
    "print('RMSE(training) %.3f'% rmse_tr_gbr)\n",
    "print('RMSE(test) %.3f'% rmse_te_gbr)"
   ]
  },
  {
   "cell_type": "code",
   "execution_count": null,
   "id": "11cd6904",
   "metadata": {},
   "outputs": [],
   "source": [
    "r2_gbr = cross_val_score(gbr,X,y,cv=cvf,scoring = 'r2')\n",
    "scores_gbr = cross_val_score(gbr,X,y,cv=cvf,scoring = 'neg_root_mean_squared_error')\n",
    "print('100 times mean r2: %.3f'% r2_gbr.mean())\n",
    "print('100 times mean RMSE: %.3f'% -scores_gbr.mean())"
   ]
  },
  {
   "cell_type": "code",
   "execution_count": null,
   "id": "29e05cb4",
   "metadata": {},
   "outputs": [],
   "source": []
  },
  {
   "cell_type": "code",
   "execution_count": null,
   "id": "d6c562d5",
   "metadata": {},
   "outputs": [],
   "source": []
  },
  {
   "cell_type": "code",
   "execution_count": null,
   "id": "89a08d2b",
   "metadata": {},
   "outputs": [],
   "source": []
  },
  {
   "cell_type": "code",
   "execution_count": null,
   "id": "db55a1aa",
   "metadata": {},
   "outputs": [],
   "source": []
  },
  {
   "cell_type": "code",
   "execution_count": null,
   "id": "02b23130",
   "metadata": {},
   "outputs": [],
   "source": []
  },
  {
   "cell_type": "code",
   "execution_count": null,
   "id": "28502a4f",
   "metadata": {},
   "outputs": [],
   "source": []
  },
  {
   "cell_type": "code",
   "execution_count": null,
   "id": "9152b454",
   "metadata": {},
   "outputs": [],
   "source": []
  },
  {
   "cell_type": "code",
   "execution_count": null,
   "id": "c9c15b96",
   "metadata": {},
   "outputs": [],
   "source": []
  },
  {
   "cell_type": "code",
   "execution_count": null,
   "id": "cd3f5d30",
   "metadata": {},
   "outputs": [],
   "source": [
    "\n",
    "\n"
   ]
  },
  {
   "cell_type": "code",
   "execution_count": null,
   "id": "aad907ff",
   "metadata": {},
   "outputs": [],
   "source": []
  }
 ],
 "metadata": {
  "kernelspec": {
   "display_name": "Python 3",
   "language": "python",
   "name": "python3"
  },
  "language_info": {
   "codemirror_mode": {
    "name": "ipython",
    "version": 3
   },
   "file_extension": ".py",
   "mimetype": "text/x-python",
   "name": "python",
   "nbconvert_exporter": "python",
   "pygments_lexer": "ipython3",
   "version": "3.8.8"
  }
 },
 "nbformat": 4,
 "nbformat_minor": 5
}
